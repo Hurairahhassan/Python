{
 "cells": [
  {
   "cell_type": "code",
   "execution_count": 1,
   "id": "6b85bbc6",
   "metadata": {},
   "outputs": [
    {
     "name": "stdout",
     "output_type": "stream",
     "text": [
      "Enter Monthly Units: 120\n",
      "Electric charges for  120 Units = 1234.8\n",
      "Uniform  charges for  120 Units = 68.58\n",
      "Fuel charges for  120 Units = 361.368\n",
      "Sales charges for  120 Units = 20.400000000000002\n",
      "Advance Tax for  120 Units = 1.7999999999999998\n",
      "TV  charges for  120  = 1.44\n",
      "Your electricity charges for = 1688.388\n"
     ]
    }
   ],
   "source": [
    "def electricity(monthly_units):\n",
    "    charges = 0\n",
    "    if monthly_units > 0 and monthly_units <= 100:\n",
    "        charges = monthly_units * 9.43\n",
    "    elif monthly_units > 100 and monthly_units <= 200:\n",
    "        charges = monthly_units * 10.29\n",
    "    elif monthly_units >200 and monthly_units <= 300:\n",
    "        charges = monthly_units * 12.55\n",
    "    elif monthly_units > 300 and monthly_units <= 400:\n",
    "        charges = monthly_units * 17.38\n",
    "    elif monthly_units > 400 and monthly_units <= 500:\n",
    "        charges = monthly_units * 18.84\n",
    "    elif monthly_units > 500 and monthly_units <= 600:\n",
    "        charges = monthly_units * 19.75\n",
    "    elif monthly_units > 600 and monthly_units <= 700:\n",
    "        charges = monthly_units * 20.40\n",
    "    else:\n",
    "        charges = -1\n",
    "    return charges\n",
    "\n",
    "def uniform_charges(monthly_units):\n",
    "    charges = monthly_units * 0.5715\n",
    "    return charges\n",
    "def fuel(monthly_units):\n",
    "    charges = monthly_units * 3.0114\n",
    "    return charges\n",
    "\n",
    "def sales(monthly_units):\n",
    "    charges = monthly_units * 0.17\n",
    "    return charges\n",
    "    \n",
    "def ads(monthly_units):\n",
    "    charges = monthly_units * 0.015\n",
    "    return charges\n",
    "\n",
    "def tv_fees(monthly_units):\n",
    "    charges = monthly_units * 0.012\n",
    "    return charges\n",
    "\n",
    "\n",
    "\n",
    "def bill_main(monthly_units):\n",
    "    electric_charges = electricity(monthly_units)\n",
    "    print(\"Electric charges for \",monthly_units,\"Units =\",electric_charges)  \n",
    "\n",
    "    uniform_charge = uniform_charges(monthly_units)\n",
    "    print(\"Uniform  charges for \",monthly_units,\"Units =\",uniform_charge)\n",
    "          \n",
    "    fuel_charges = fuel(monthly_units)\n",
    "    print(\"Fuel charges for \", monthly_units,\"Units =\", fuel_charges)\n",
    "    \n",
    "    sales_charges = sales(monthly_units)\n",
    "    print(\"Sales charges for \", monthly_units, \"Units =\", sales_charges)\n",
    "          \n",
    "    advance_tax = ads(monthly_units)\n",
    "    print(\"Advance Tax for \", monthly_units, \"Units =\", advance_tax)\n",
    "\n",
    "    tv_fee = tv_fees(monthly_units)\n",
    "    print(\"TV  charges for \", monthly_units, \" =\", tv_fee)\n",
    "    \n",
    "    total = electric_charges + uniform_charge + fuel_charges + sales_charges + advance_tax + tv_fee\n",
    "    print(\"Your electricity charges for =\", total)\n",
    "    \n",
    "\n",
    "monthly_units = int(input(\"Enter Monthly Units: \"))\n",
    "bill_main(monthly_units)"
   ]
  },
  {
   "cell_type": "code",
   "execution_count": null,
   "id": "3d17383f",
   "metadata": {},
   "outputs": [],
   "source": []
  }
 ],
 "metadata": {
  "kernelspec": {
   "display_name": "Python 3 (ipykernel)",
   "language": "python",
   "name": "python3"
  },
  "language_info": {
   "codemirror_mode": {
    "name": "ipython",
    "version": 3
   },
   "file_extension": ".py",
   "mimetype": "text/x-python",
   "name": "python",
   "nbconvert_exporter": "python",
   "pygments_lexer": "ipython3",
   "version": "3.9.12"
  }
 },
 "nbformat": 4,
 "nbformat_minor": 5
}
