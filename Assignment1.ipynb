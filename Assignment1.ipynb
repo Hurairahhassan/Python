{
 "cells": [
  {
   "cell_type": "code",
   "execution_count": 6,
   "metadata": {},
   "outputs": [
    {
     "name": "stdout",
     "output_type": "stream",
     "text": [
      "My Name is Syed Hurairah Hassan and My id is PIAIC189463\n"
     ]
    }
   ],
   "source": [
    "name = \"Syed Hurairah Hassan\"\n",
    "id = \"PIAIC189463\"\n",
    "print(f'My Name is {name} and My id is {id}')"
   ]
  },
  {
   "cell_type": "code",
   "execution_count": 11,
   "metadata": {},
   "outputs": [
    {
     "name": "stdout",
     "output_type": "stream",
     "text": [
      "Muhammad Ali Jinnah once said, \"I do not believe in taking the right decision, I take a decision and make it right.\"\n"
     ]
    }
   ],
   "source": [
    "quote = \"I do not believe in taking the right decision, I take a decision and make it right.\"\n",
    "\n",
    "person = \"Muhammad Ali Jinnah\"\n",
    "\n",
    "print (f'{person} once said, \"{quote}\"')"
   ]
  },
  {
   "cell_type": "code",
   "execution_count": 12,
   "metadata": {},
   "outputs": [
    {
     "name": "stdout",
     "output_type": "stream",
     "text": [
      "My favourite number is 9\n"
     ]
    }
   ],
   "source": [
    "fav_number = 9\n",
    "\n",
    "print (f\"My favourite number is {fav_number}\")"
   ]
  },
  {
   "cell_type": "code",
   "execution_count": 5,
   "metadata": {},
   "outputs": [
    {
     "name": "stdout",
     "output_type": "stream",
     "text": [
      "Give radius to determine Area of Circle\n",
      "0.5\n",
      "0.7855\n"
     ]
    }
   ],
   "source": [
    "radius = float(input(\"Give radius to determine Area of Circle\\n\"))\n",
    "area = (radius**2)*3.142\n",
    "print (area)"
   ]
  },
  {
   "cell_type": "code",
   "execution_count": 12,
   "metadata": {},
   "outputs": [
    {
     "name": "stdout",
     "output_type": "stream",
     "text": [
      "Enter number\n",
      "1\n",
      "Positive Number Entered\n"
     ]
    }
   ],
   "source": [
    "user_input_number= int(input(\"Enter number\\n\"))\n",
    "\n",
    "if user_input_number == 0:\n",
    "    print (\"Zero Entered\")\n",
    "elif user_input_number >= 0:\n",
    "    print (\"Positive Number Entered\")\n",
    "else:\n",
    "    print (\"Negative Number Entered\")"
   ]
  },
  {
   "cell_type": "code",
   "execution_count": 38,
   "metadata": {},
   "outputs": [
    {
     "name": "stdout",
     "output_type": "stream",
     "text": [
      "Enter a character:\n",
      "a\n",
      "Letter a is a vowel\n"
     ]
    }
   ],
   "source": [
    "\n",
    "# taking user input\n",
    "ch = input(\"Enter a character:\\n\")\n",
    "\n",
    "if(ch =='A' or ch =='a' or ch =='E' or ch =='e' or ch =='I'\n",
    " or ch =='i' or ch =='O' or ch =='o' or ch =='U' or ch =='u'):\n",
    "    print (f\"Letter {ch} is a vowel\")\n",
    "else:\n",
    "    print (f\"Letter {ch} is not vowel\")\n",
    "\n"
   ]
  },
  {
   "cell_type": "code",
   "execution_count": 42,
   "metadata": {},
   "outputs": [
    {
     "name": "stdout",
     "output_type": "stream",
     "text": [
      "Enter Height in Cm: 180\n",
      "Enter Weight in kg: 75\n",
      "Your BMI is 23.15\n"
     ]
    }
   ],
   "source": [
    "height = int(input(\"Enter Height in Cm: \"))\n",
    "weight = int(input(\"Enter Weight in kg: \"))\n",
    "\n",
    "h_in_m = height * 0.01\n",
    "\n",
    "bmi = weight/h_in_m**2\n",
    "bmi_float = \"{:.2f}\".format(bmi)\n",
    "\n",
    "print (f\"Your BMI is {bmi_float}\")"
   ]
  },
  {
   "cell_type": "code",
   "execution_count": 44,
   "metadata": {},
   "outputs": [
    {
     "name": "stdout",
     "output_type": "stream",
     "text": [
      "Hurairah Ahmed Danyal Tauqeer Ahsan Sajid Atif\n"
     ]
    }
   ],
   "source": [
    "names = [\"Hurairah\", \"Ahmed\", \"Danyal\", \"Tauqeer\", \"Ahsan\", \"Sajid\", \"Atif\"]\n",
    "print (names[0],names[1],names[2],names[3],names[4],names[5],names[6])"
   ]
  },
  {
   "cell_type": "code",
   "execution_count": 45,
   "metadata": {},
   "outputs": [
    {
     "name": "stdout",
     "output_type": "stream",
     "text": [
      "Hi How are you. Hurairah\n",
      "Hi How are you. Ahmed\n",
      "Hi How are you. Danyal\n",
      "Hi How are you. Tauqeer\n",
      "Hi How are you. Ahsan\n",
      "Hi How are you. Sajid\n",
      "Hi How are you. Atif\n"
     ]
    }
   ],
   "source": [
    "for name in names:\n",
    "    print (f\"Hi How are you. {name}\")"
   ]
  },
  {
   "cell_type": "code",
   "execution_count": 46,
   "metadata": {},
   "outputs": [
    {
     "name": "stdout",
     "output_type": "stream",
     "text": [
      "['biryani', 'karahi', 'daalchawal', 'korma', 'kofta', 'french-fries', 'burger', 'tikka', 'bbq-club-sandwitch']\n",
      "biryani karahi daalchawal\n",
      "['biryani', 'karahi', 'daalchawal']\n",
      "korma kofta french-fries\n",
      "['korma', 'kofta', 'french-fries']\n",
      "burger tikka bbq-club-sandwitch\n",
      "['burger', 'tikka', 'bbq-club-sandwitch']\n"
     ]
    }
   ],
   "source": [
    "foods = [\"biryani\", \"karahi\", \"daalchawal\", \"korma\", \"kofta\", \"french-fries\", \"burger\", \"tikka\", \"bbq-club-sandwitch\"]\n",
    "\n",
    "print (foods)\n",
    "\n",
    "# print first three items without slice\n",
    "print (foods[0], foods[1], foods[2])\n",
    "# print first three items with slice\n",
    "print (foods[:3])\n",
    "\n",
    "# print three items from middle without slice\n",
    "print (foods[3], foods[4], foods[5])\n",
    "# print three items from middle with slice\n",
    "print (foods[3:6])\n",
    "\n",
    "# print last three items without slice\n",
    "print (foods[6], foods[7], foods[8])\n",
    "# print last three items with slice\n",
    "print (foods[6:])\n"
   ]
  },
  {
   "cell_type": "code",
   "execution_count": 47,
   "metadata": {},
   "outputs": [
    {
     "name": "stdout",
     "output_type": "stream",
     "text": [
      "['biryani', 'karahi', 'daalchawal', 'korma', 'kofta', 'french-fries', 'burger', 'tikka', 'bbq-club-sandwitch']\n",
      "['biryani', 'karahi', 'daalchawal', 'korma', 'kofta', 'french-fries', 'burger', 'tikka', 'bbq-club-sandwitch', 'kabab']\n",
      "['biryani', 'karahi', 'daalchawal', 'korma', 'kofta', 'french-fries', 'burger', 'tikka', 'bbq-club-sandwitch', 'malai-boti']\n",
      "False\n",
      "my favorite foods are: biryani\n",
      "my favorite foods are: karahi\n",
      "my favorite foods are: daalchawal\n",
      "my favorite foods are: korma\n",
      "my favorite foods are: kofta\n",
      "my favorite foods are: french-fries\n",
      "my favorite foods are: burger\n",
      "my favorite foods are: tikka\n",
      "my favorite foods are: bbq-club-sandwitch\n",
      "my favorite foods are: kabab\n",
      "my friend's favorite foods are: biryani\n",
      "my friend's favorite foods are: karahi\n",
      "my friend's favorite foods are: daalchawal\n",
      "my friend's favorite foods are: korma\n",
      "my friend's favorite foods are: kofta\n",
      "my friend's favorite foods are: french-fries\n",
      "my friend's favorite foods are: burger\n",
      "my friend's favorite foods are: tikka\n",
      "my friend's favorite foods are: bbq-club-sandwitch\n",
      "my friend's favorite foods are: malai-boti\n"
     ]
    }
   ],
   "source": [
    "print (foods)\n",
    "# making of copy of friends foods list\n",
    "friends_foods = []\n",
    "for food in foods:\n",
    "    friends_foods.append(food)\n",
    "\n",
    "# deleting new appended value incase of already added\n",
    "if \"kabab\" in foods:\n",
    "    foods.remove(\"kabab\")\n",
    "    \n",
    "# appending new values in both list\n",
    "foods.append(\"kabab\")\n",
    "friends_foods.append(\"malai-boti\")\n",
    "\n",
    "print (foods)\n",
    "print (friends_foods)\n",
    "\n",
    "# proving both list are different\n",
    "print (foods == friends_foods)\n",
    "\n",
    "# looping both list\n",
    "for myfood in foods:\n",
    "    print (f\"my favorite foods are: {myfood}\")\n",
    "\n",
    "for friend_food in friends_foods:\n",
    "    print (f\"my friend's favorite foods are: {friend_food}\")"
   ]
  },
  {
   "cell_type": "code",
   "execution_count": null,
   "metadata": {},
   "outputs": [],
   "source": []
  }
 ],
 "metadata": {
  "kernelspec": {
   "display_name": "Python 3 (ipykernel)",
   "language": "python",
   "name": "python3"
  },
  "language_info": {
   "codemirror_mode": {
    "name": "ipython",
    "version": 3
   },
   "file_extension": ".py",
   "mimetype": "text/x-python",
   "name": "python",
   "nbconvert_exporter": "python",
   "pygments_lexer": "ipython3",
   "version": "3.9.12"
  },
  "vscode": {
   "interpreter": {
    "hash": "cf61f7f99edbc6e589eadee41f2ccafca7c0c85ac7dc8cd4b70562f851d1229f"
   }
  }
 },
 "nbformat": 4,
 "nbformat_minor": 2
}
